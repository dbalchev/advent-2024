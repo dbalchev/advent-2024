{
 "cells": [
  {
   "cell_type": "code",
   "execution_count": 1,
   "id": "257ef6f7-5434-4829-94c5-4a8a11b43a8b",
   "metadata": {},
   "outputs": [],
   "source": [
    "import z3"
   ]
  },
  {
   "cell_type": "code",
   "execution_count": 2,
   "id": "d2fe8a5a-d53f-4fd7-ad8a-3ccc9fb56feb",
   "metadata": {},
   "outputs": [],
   "source": [
    "init_b = 0\n",
    "init_c = 0\n",
    "\n",
    "program = [2,4,1,1,7,5,1,4,0,3,4,5,5,5,3,0]"
   ]
  },
  {
   "cell_type": "code",
   "execution_count": 3,
   "id": "5b0e0435-1771-467a-b87e-d4fe7529113b",
   "metadata": {},
   "outputs": [
    {
     "data": {
      "text/plain": [
       "[(2, 4), (1, 1), (7, 5), (1, 4), (0, 3), (4, 5), (5, 5), (3, 0)]"
      ]
     },
     "execution_count": 3,
     "metadata": {},
     "output_type": "execute_result"
    }
   ],
   "source": [
    "program_opcodes_operands = list(zip(program[::2], program[1::2]))\n",
    "program_opcodes_operands"
   ]
  },
  {
   "cell_type": "code",
   "execution_count": 4,
   "id": "61159ecd-2e17-4b1b-911d-9e0245fcecd7",
   "metadata": {},
   "outputs": [],
   "source": [
    "if program_opcodes_operands[-1] != (3, 0):\n",
    "    raise ValueError('last op should be (3, 0)')"
   ]
  },
  {
   "cell_type": "code",
   "execution_count": 5,
   "id": "b91c0118-4c76-4858-bc73-8688472b8b1f",
   "metadata": {},
   "outputs": [],
   "source": [
    "if sum(opcode == 5 for opcode, _ in program_opcodes_operands) != 1:\n",
    "    raise ValueError('we should have a single output')"
   ]
  },
  {
   "cell_type": "code",
   "execution_count": 6,
   "id": "eaf86255-2c40-4fd5-85a1-6f0ca7712c52",
   "metadata": {},
   "outputs": [],
   "source": [
    "unrolled_instructions = program_opcodes_operands * len(program)"
   ]
  },
  {
   "cell_type": "code",
   "execution_count": 7,
   "id": "74e54faf-14dc-4ccd-b1fa-81f721af2cc4",
   "metadata": {},
   "outputs": [],
   "source": [
    "state_before = [\n",
    "    {\n",
    "        'a': z3.BitVec(f'a_{i}', 64),\n",
    "        'b': z3.BitVec(f'b_{i}', 64),\n",
    "        'c': z3.BitVec(f'c_{i}', 64),\n",
    "    }\n",
    "    for i in range(len(unrolled_instructions) + 1)\n",
    "]\n",
    "    "
   ]
  },
  {
   "cell_type": "code",
   "execution_count": 8,
   "id": "678dfa68-fb10-469e-bcbb-7a0732e95b8d",
   "metadata": {},
   "outputs": [],
   "source": [
    "def combo_value(operand, state):\n",
    "    match operand:\n",
    "        case 0 | 1 | 2 | 3:\n",
    "            return operand\n",
    "        case 4:\n",
    "            return state['a']\n",
    "        case 5:\n",
    "            return state['b']\n",
    "        case 6:\n",
    "            return state['c']\n",
    "    raise ValueError()        "
   ]
  },
  {
   "cell_type": "code",
   "execution_count": 9,
   "id": "23598a72-266b-4b79-99b6-512eebd889b3",
   "metadata": {},
   "outputs": [],
   "source": [
    "\n",
    "constraints = [\n",
    "    state_before[0]['b'] == 0,\n",
    "    state_before[0]['c'] == 0,\n",
    "]\n",
    "for i, (opcode, operand) in enumerate(unrolled_instructions):\n",
    "    prev_state = state_before[i]\n",
    "    next_state = state_before[i + 1]\n",
    "\n",
    "    def combo():\n",
    "        return combo_value(operand, prev_state)\n",
    "    def forward(registers):\n",
    "        constraints.append(z3.And(*[next_state[r] == prev_state[r] for r in registers]))\n",
    "    def dv():\n",
    "        return prev_state['a'] / (1 << combo())\n",
    "    match opcode:\n",
    "        case 0:\n",
    "            constraints.append(next_state['a'] == dv())\n",
    "            forward('bc')\n",
    "        case 1:\n",
    "            constraints.append(next_state['b'] == prev_state['b'] ^ operand)\n",
    "            forward('ac')\n",
    "        case 2:\n",
    "            constraints.append(next_state['b'] == combo() % 8)\n",
    "            forward('ac')\n",
    "        case 3:\n",
    "            if i // len(program_opcodes_operands) < len(program) - 1:\n",
    "                constraints.append(prev_state['a'] != 0)\n",
    "            else:\n",
    "                constraints.append(prev_state['a'] == 0)\n",
    "            forward('abc')\n",
    "        case 4:\n",
    "            constraints.append(next_state['b'] == prev_state['b'] ^ prev_state['c'])\n",
    "            forward('ac')\n",
    "        case 5:\n",
    "            constraints.append(combo() % 8 == (program[i // len(program_opcodes_operands)]))\n",
    "            forward('abc')\n",
    "        case 6:\n",
    "            constraints.append(next_state['b'] == dv())\n",
    "            forward('ac')\n",
    "        case 7:\n",
    "            constraints.append(next_state['c'] == dv())\n",
    "            forward('ab')\n",
    "        case _:\n",
    "            raise ValueError()\n"
   ]
  },
  {
   "cell_type": "code",
   "execution_count": 10,
   "id": "76b2d887-3349-49b7-bedd-abbaf23794e9",
   "metadata": {},
   "outputs": [
    {
     "data": {
      "text/plain": [
       "202322936867370"
      ]
     },
     "execution_count": 10,
     "metadata": {},
     "output_type": "execute_result"
    }
   ],
   "source": [
    "current_a = None\n",
    "for _ in range(10):\n",
    "    solver = z3.Optimize()    \n",
    "    solver.add(*constraints)\n",
    "    if current_a:\n",
    "        solver.add(state_before[0]['a'] < current_a)\n",
    "    solver.check()\n",
    "    candidate = solver.model()[state_before[0]['a']]\n",
    "    if candidate is None:\n",
    "        break\n",
    "    current_a = candidate.as_long()\n",
    "current_a"
   ]
  },
  {
   "cell_type": "code",
   "execution_count": null,
   "id": "e0effdc1-a9f8-4838-b1d6-041ad9afac98",
   "metadata": {},
   "outputs": [],
   "source": []
  }
 ],
 "metadata": {
  "kernelspec": {
   "display_name": "Python 3 (ipykernel)",
   "language": "python",
   "name": "python3"
  },
  "language_info": {
   "codemirror_mode": {
    "name": "ipython",
    "version": 3
   },
   "file_extension": ".py",
   "mimetype": "text/x-python",
   "name": "python",
   "nbconvert_exporter": "python",
   "pygments_lexer": "ipython3",
   "version": "3.11.7"
  }
 },
 "nbformat": 4,
 "nbformat_minor": 5
}
